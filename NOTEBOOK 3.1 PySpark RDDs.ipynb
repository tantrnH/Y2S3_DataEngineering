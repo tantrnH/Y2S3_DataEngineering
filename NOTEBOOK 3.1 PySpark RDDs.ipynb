{
 "cells": [
  {
   "cell_type": "markdown",
   "metadata": {
    "id": "kj4_rDjRnjxr"
   },
   "source": [
    "# NOTEBOOK 3.1 PySpark RDDs"
   ]
  },
  {
   "cell_type": "markdown",
   "metadata": {
    "id": "5AZUfWMciP8F"
   },
   "source": [
    "## 0. Create a SparkSession object\n",
    "\n",
    "We control our Spark Application through a driver process called the **SparkSession**. The **SparkSession** instance is the way Spark executes user-defined manipulation across the cluster. There is a one-to-one correspondence between a SparkSession and a Spark Application."
   ]
  },
  {
   "cell_type": "code",
   "execution_count": 8,
   "metadata": {
    "executionInfo": {
     "elapsed": 16833,
     "status": "ok",
     "timestamp": 1749540602292,
     "user": {
      "displayName": "TAN SWEE NEO KATHLEEN",
      "userId": "08125048316560176091"
     },
     "user_tz": -480
    },
    "id": "YLPeXDq-mri_"
   },
   "outputs": [],
   "source": [
    "from pyspark.sql import SparkSession\n",
    "\n",
    "spark = SparkSession \\\n",
    "  .builder \\\n",
    "  .appName(\"PySpark RDDs\") \\\n",
    "  .getOrCreate()"
   ]
  },
  {
   "cell_type": "code",
   "execution_count": 9,
   "metadata": {
    "executionInfo": {
     "elapsed": 6,
     "status": "ok",
     "timestamp": 1749540602304,
     "user": {
      "displayName": "TAN SWEE NEO KATHLEEN",
      "userId": "08125048316560176091"
     },
     "user_tz": -480
    },
    "id": "-gePPU7pnYbw"
   },
   "outputs": [],
   "source": [
    "sc = spark.sparkContext"
   ]
  },
  {
   "cell_type": "markdown",
   "metadata": {
    "id": "1fUAvogSiZc2"
   },
   "source": [
    "## 1. Creating RDDs\n",
    "4 ways to create an RDD:\n",
    "*   Parallelize a collection\n",
    "*   From another RDD\n",
    "*   From a Spark DataFrame\n",
    "*   From an external dataset\n",
    "\n",
    "### 1.1 Parallelize a collection\n",
    "\n",
    "You can use the existing collection from your programs (e.g., List, Array, Set, etc) and ask Spark to distribute that collection across the cluster to process it in parallel."
   ]
  },
  {
   "cell_type": "code",
   "execution_count": 10,
   "metadata": {
    "colab": {
     "base_uri": "https://localhost:8080/"
    },
    "executionInfo": {
     "elapsed": 2263,
     "status": "ok",
     "timestamp": 1749540604570,
     "user": {
      "displayName": "TAN SWEE NEO KATHLEEN",
      "userId": "08125048316560176091"
     },
     "user_tz": -480
    },
    "id": "D78x8buTK9Yr",
    "outputId": "0d533d28-aeb0-4152-9c65-13c506dfecea"
   },
   "outputs": [
    {
     "name": "stdout",
     "output_type": "stream",
     "text": [
      "[5, 2, 3, 5, 6, 9, 5, 0, 8, 3, 8, 6, 5, 2, 2, 3, 5, 4, 3, 1]\n"
     ]
    }
   ],
   "source": [
    "num_list = [5, 2, 3, 5, 6, 9, 5, 0, 8, 3, 8, 6, 5, 2, 2, 3, 5, 4, 3, 1]\n",
    "numbers_rdd = sc.parallelize(num_list)\n",
    "print(numbers_rdd.collect())"
   ]
  },
  {
   "cell_type": "markdown",
   "metadata": {
    "id": "_84eSVD7i-8X"
   },
   "source": [
    "### 1.2 From another RDD"
   ]
  },
  {
   "cell_type": "code",
   "execution_count": 11,
   "metadata": {
    "colab": {
     "base_uri": "https://localhost:8080/"
    },
    "executionInfo": {
     "elapsed": 3020,
     "status": "ok",
     "timestamp": 1749540607593,
     "user": {
      "displayName": "TAN SWEE NEO KATHLEEN",
      "userId": "08125048316560176091"
     },
     "user_tz": -480
    },
    "id": "priSKalredaQ",
    "outputId": "e79874d2-913b-4a6e-8669-41f79cb7d022"
   },
   "outputs": [
    {
     "name": "stdout",
     "output_type": "stream",
     "text": [
      "[0, 1, 2, 3, 4, 5, 6, 8, 9]\n"
     ]
    }
   ],
   "source": [
    "distinct_numbers_rdd = numbers_rdd.distinct()\n",
    "print(distinct_numbers_rdd.collect())"
   ]
  },
  {
   "cell_type": "markdown",
   "metadata": {
    "id": "kLSmjxf7jLa1"
   },
   "source": [
    "### 1.3 From a Spark DataFrame"
   ]
  },
  {
   "cell_type": "code",
   "execution_count": 12,
   "metadata": {
    "colab": {
     "base_uri": "https://localhost:8080/"
    },
    "executionInfo": {
     "elapsed": 7696,
     "status": "ok",
     "timestamp": 1749540615295,
     "user": {
      "displayName": "TAN SWEE NEO KATHLEEN",
      "userId": "08125048316560176091"
     },
     "user_tz": -480
    },
    "id": "FORCFb2adMQO",
    "outputId": "6dc0dd8d-7aec-4998-d0c0-00227380d7ba"
   },
   "outputs": [
    {
     "name": "stdout",
     "output_type": "stream",
     "text": [
      "+---+\n",
      "| id|\n",
      "+---+\n",
      "|  1|\n",
      "|  2|\n",
      "|  3|\n",
      "|  4|\n",
      "+---+\n",
      "\n"
     ]
    }
   ],
   "source": [
    "numbers_df = spark.range(1,5)\n",
    "numbers_df.show()"
   ]
  },
  {
   "cell_type": "code",
   "execution_count": 13,
   "metadata": {
    "colab": {
     "base_uri": "https://localhost:8080/"
    },
    "executionInfo": {
     "elapsed": 921,
     "status": "ok",
     "timestamp": 1749540616212,
     "user": {
      "displayName": "TAN SWEE NEO KATHLEEN",
      "userId": "08125048316560176091"
     },
     "user_tz": -480
    },
    "id": "V8pFnXGHdW3N",
    "outputId": "9b7efa75-c8ac-4bd1-cd0b-28ebcfcc22d4"
   },
   "outputs": [
    {
     "data": {
      "text/plain": [
       "[Row(id=1), Row(id=2), Row(id=3), Row(id=4)]"
      ]
     },
     "execution_count": 13,
     "metadata": {},
     "output_type": "execute_result"
    }
   ],
   "source": [
    "numbers_rdd = numbers_df.rdd\n",
    "numbers_rdd.collect()"
   ]
  },
  {
   "cell_type": "markdown",
   "metadata": {
    "id": "-WdEUkg7jVFo"
   },
   "source": [
    "### 1.4 From an external dataset"
   ]
  },
  {
   "cell_type": "code",
   "execution_count": 14,
   "metadata": {
    "colab": {
     "base_uri": "https://localhost:8080/"
    },
    "executionInfo": {
     "elapsed": 714,
     "status": "ok",
     "timestamp": 1749540616928,
     "user": {
      "displayName": "TAN SWEE NEO KATHLEEN",
      "userId": "08125048316560176091"
     },
     "user_tz": -480
    },
    "id": "noZx_CXctAKl",
    "outputId": "06557595-59ec-4f95-aae9-ec7ddaa3190f"
   },
   "outputs": [
    {
     "name": "stdout",
     "output_type": "stream",
     "text": [
      "['whether the weather be fine',\n",
      " 'or whether the weather be not',\n",
      " 'whether the weather be cold',\n",
      " 'or whether the weather be hot',\n",
      " 'well whether the weather',\n",
      " 'whatever the weather',\n",
      " 'whether we like it or not']\n"
     ]
    }
   ],
   "source": [
    "import pprint\n",
    "\n",
    "text_rdd = sc.textFile(\"data/weather.txt\")\n",
    "pprint.pprint(text_rdd.collect())"
   ]
  },
  {
   "cell_type": "markdown",
   "metadata": {
    "id": "zC_aua6VjqG2"
   },
   "source": [
    "## 2. RDD Transformations"
   ]
  },
  {
   "cell_type": "code",
   "execution_count": 15,
   "metadata": {
    "colab": {
     "base_uri": "https://localhost:8080/"
    },
    "executionInfo": {
     "elapsed": 27,
     "status": "ok",
     "timestamp": 1749540616959,
     "user": {
      "displayName": "TAN SWEE NEO KATHLEEN",
      "userId": "08125048316560176091"
     },
     "user_tz": -480
    },
    "id": "Wi3dsISakBHv",
    "outputId": "5b8c2a09-e97e-418a-eaef-ee97de10a44f"
   },
   "outputs": [
    {
     "name": "stdout",
     "output_type": "stream",
     "text": [
      "[5, 2, 3, 5, 6, 9, 5, 0, 8, 3, 8, 6, 5, 2, 2, 3, 5, 4, 3, 1]\n"
     ]
    }
   ],
   "source": [
    "num_list = [5, 2, 3, 5, 6, 9, 5, 0, 8, 3, 8, 6, 5, 2, 2, 3, 5, 4, 3, 1]\n",
    "numbers_rdd = sc.parallelize(num_list)\n",
    "print(numbers_rdd.collect())"
   ]
  },
  {
   "cell_type": "markdown",
   "metadata": {
    "id": "mgAIEexglIlu"
   },
   "source": [
    "### 2.1 filter()\n",
    "Applies a function that filters out the elements that do not pass the condition criteria."
   ]
  },
  {
   "cell_type": "code",
   "execution_count": 16,
   "metadata": {
    "colab": {
     "base_uri": "https://localhost:8080/"
    },
    "executionInfo": {
     "elapsed": 479,
     "status": "ok",
     "timestamp": 1749540617441,
     "user": {
      "displayName": "TAN SWEE NEO KATHLEEN",
      "userId": "08125048316560176091"
     },
     "user_tz": -480
    },
    "id": "6Q6haHiwkBO_",
    "outputId": "1634dc8b-2ace-4f49-9a67-d742f7e55872"
   },
   "outputs": [
    {
     "name": "stdout",
     "output_type": "stream",
     "text": [
      "[3, 6, 9, 0, 3, 6, 3, 3]\n"
     ]
    }
   ],
   "source": [
    "multiples_rdd = numbers_rdd.filter(lambda x: x % 3 == 0)\n",
    "print(multiples_rdd.collect())"
   ]
  },
  {
   "cell_type": "code",
   "execution_count": 17,
   "metadata": {
    "colab": {
     "base_uri": "https://localhost:8080/"
    },
    "executionInfo": {
     "elapsed": 302,
     "status": "ok",
     "timestamp": 1749540617746,
     "user": {
      "displayName": "TAN SWEE NEO KATHLEEN",
      "userId": "08125048316560176091"
     },
     "user_tz": -480
    },
    "id": "OYd0TQlKkBWW",
    "outputId": "cf753998-6571-4117-e51a-dd10da347f03"
   },
   "outputs": [
    {
     "data": {
      "text/plain": [
       "[25, 4, 9, 25, 36, 81, 25, 0, 64, 9, 64, 36, 25, 4, 4, 9, 25, 16, 9, 1]"
      ]
     },
     "execution_count": 17,
     "metadata": {},
     "output_type": "execute_result"
    }
   ],
   "source": [
    "squares_rdd = numbers_rdd.map(lambda x: x * x)\n",
    "squares_rdd.collect()"
   ]
  },
  {
   "cell_type": "code",
   "execution_count": 18,
   "metadata": {
    "colab": {
     "base_uri": "https://localhost:8080/"
    },
    "executionInfo": {
     "elapsed": 513,
     "status": "ok",
     "timestamp": 1749540618262,
     "user": {
      "displayName": "TAN SWEE NEO KATHLEEN",
      "userId": "08125048316560176091"
     },
     "user_tz": -480
    },
    "id": "dOXq9RbJkBa2",
    "outputId": "a361c198-ba0b-46bb-ff21-d4dccfb9aab7"
   },
   "outputs": [
    {
     "data": {
      "text/plain": [
       "[25, 2, 9, 25, 6, 81, 25, 0, 8, 9, 8, 6, 25, 2, 2, 9, 25, 4, 9, 1]"
      ]
     },
     "execution_count": 18,
     "metadata": {},
     "output_type": "execute_result"
    }
   ],
   "source": [
    "def square_if_odd(x):\n",
    "  if (x % 2 == 1):\n",
    "    return x * x\n",
    "  else:\n",
    "    return x\n",
    "\n",
    "numbers_rdd.map(square_if_odd).collect()"
   ]
  },
  {
   "cell_type": "markdown",
   "metadata": {
    "id": "y8rIFVtslX0W"
   },
   "source": [
    "### 2.2 union()\n",
    "Takes another RDD as an input and produces a new RDD containing elements from both the RDDs."
   ]
  },
  {
   "cell_type": "code",
   "execution_count": 19,
   "metadata": {
    "colab": {
     "base_uri": "https://localhost:8080/"
    },
    "executionInfo": {
     "elapsed": 306,
     "status": "ok",
     "timestamp": 1749540618570,
     "user": {
      "displayName": "TAN SWEE NEO KATHLEEN",
      "userId": "08125048316560176091"
     },
     "user_tz": -480
    },
    "id": "ZzU-aTlEkddN",
    "outputId": "bd40c450-952b-442b-a3ad-22e1f259af54"
   },
   "outputs": [
    {
     "name": "stdout",
     "output_type": "stream",
     "text": [
      "rdd1: [3, 1, 0, 8, 9, 5, 7]\n",
      "rdd2: [1, 6, 0, 9, 7, 2, 5]\n",
      "rdd1.union(rdd2): [3, 1, 0, 8, 9, 5, 7, 1, 6, 0, 9, 7, 2, 5]\n"
     ]
    }
   ],
   "source": [
    "rdd1 = sc.parallelize([3, 1, 0, 8, 9, 5, 7])\n",
    "rdd2 = sc.parallelize([1, 6, 0, 9, 7, 2, 5])\n",
    "print(f\"rdd1: {rdd1.collect()}\")\n",
    "print(f\"rdd2: {rdd2.collect()}\")\n",
    "print(f\"rdd1.union(rdd2): {rdd1.union(rdd2).collect()}\")"
   ]
  },
  {
   "cell_type": "markdown",
   "metadata": {
    "id": "7zNUUjRenc-m"
   },
   "source": [
    "### 2.3 intersection()\n",
    "Takes another RDD as an input and produces a new RDD containing elements that exist in both the RDDs."
   ]
  },
  {
   "cell_type": "code",
   "execution_count": 20,
   "metadata": {
    "colab": {
     "base_uri": "https://localhost:8080/"
    },
    "executionInfo": {
     "elapsed": 2254,
     "status": "ok",
     "timestamp": 1749540620820,
     "user": {
      "displayName": "TAN SWEE NEO KATHLEEN",
      "userId": "08125048316560176091"
     },
     "user_tz": -480
    },
    "id": "md5146ifnhbv",
    "outputId": "c909e31c-04b2-49aa-87da-0ce74a02ba31"
   },
   "outputs": [
    {
     "name": "stdout",
     "output_type": "stream",
     "text": [
      "rdd1: [3, 1, 0, 8, 9, 5, 7]\n",
      "rdd2: [1, 6, 0, 9, 7, 2, 5]\n"
     ]
    },
    {
     "name": "stderr",
     "output_type": "stream",
     "text": [
      "[Stage 20:====================================================>   (30 + 2) / 32]\r"
     ]
    },
    {
     "name": "stdout",
     "output_type": "stream",
     "text": [
      "rdd1.subtract(rdd2): [3, 8]\n"
     ]
    },
    {
     "name": "stderr",
     "output_type": "stream",
     "text": [
      "                                                                                \r"
     ]
    }
   ],
   "source": [
    "print(f\"rdd1: {rdd1.collect()}\")\n",
    "print(f\"rdd2: {rdd2.collect()}\")\n",
    "print(f\"rdd1.subtract(rdd2): {rdd1.subtract(rdd2).collect()}\")"
   ]
  },
  {
   "cell_type": "markdown",
   "metadata": {
    "id": "4GeayUkKnoJG"
   },
   "source": [
    "### 2.4 subtract()\n",
    "Takes another RDD as an input and produces a new RDD containing elements from the current RDD with the elements in the given RDDs excluded."
   ]
  },
  {
   "cell_type": "code",
   "execution_count": 21,
   "metadata": {
    "colab": {
     "base_uri": "https://localhost:8080/"
    },
    "executionInfo": {
     "elapsed": 2247,
     "status": "ok",
     "timestamp": 1749540623073,
     "user": {
      "displayName": "TAN SWEE NEO KATHLEEN",
      "userId": "08125048316560176091"
     },
     "user_tz": -480
    },
    "id": "Jub5gTsrnsUn",
    "outputId": "591a79bd-673f-4eb3-ee26-65bf737e40ef"
   },
   "outputs": [
    {
     "name": "stdout",
     "output_type": "stream",
     "text": [
      "rdd1: [3, 1, 0, 8, 9, 5, 7]\n",
      "rdd2: [1, 6, 0, 9, 7, 2, 5]\n"
     ]
    },
    {
     "name": "stderr",
     "output_type": "stream",
     "text": [
      "[Stage 24:=================================================>      (28 + 4) / 32]\r"
     ]
    },
    {
     "name": "stdout",
     "output_type": "stream",
     "text": [
      "rdd1.subtract(rdd2): [3, 8]\n"
     ]
    },
    {
     "name": "stderr",
     "output_type": "stream",
     "text": [
      "                                                                                \r"
     ]
    }
   ],
   "source": [
    "print(f\"rdd1: {rdd1.collect()}\")\n",
    "print(f\"rdd2: {rdd2.collect()}\")\n",
    "print(f\"rdd1.subtract(rdd2): {rdd1.subtract(rdd2).collect()}\")"
   ]
  },
  {
   "cell_type": "markdown",
   "metadata": {
    "id": "W917ujQDnJXH"
   },
   "source": [
    "### 2.5 cartesian()\n",
    "Joins elements of one RDD with all the elements of another RDD and results in the cartesian product of two."
   ]
  },
  {
   "cell_type": "code",
   "execution_count": 22,
   "metadata": {
    "colab": {
     "base_uri": "https://localhost:8080/"
    },
    "executionInfo": {
     "elapsed": 615,
     "status": "ok",
     "timestamp": 1749540623692,
     "user": {
      "displayName": "TAN SWEE NEO KATHLEEN",
      "userId": "08125048316560176091"
     },
     "user_tz": -480
    },
    "id": "sofOGTF0nYlN",
    "outputId": "0e6efecc-6ba1-42b2-d5af-b37460e11026"
   },
   "outputs": [
    {
     "name": "stderr",
     "output_type": "stream",
     "text": [
      "                                                                                \r"
     ]
    },
    {
     "data": {
      "text/plain": [
       "[(0, 'A'),\n",
       " (0, 'B'),\n",
       " (0, 'C'),\n",
       " (1, 'A'),\n",
       " (1, 'B'),\n",
       " (1, 'C'),\n",
       " (2, 'A'),\n",
       " (2, 'B'),\n",
       " (2, 'C')]"
      ]
     },
     "execution_count": 22,
     "metadata": {},
     "output_type": "execute_result"
    }
   ],
   "source": [
    "firstRDD = sc.parallelize(range(3))\n",
    "secordRDD = sc.parallelize(['A','B','C'])\n",
    "firstRDD.cartesian(secordRDD).collect()"
   ]
  },
  {
   "cell_type": "markdown",
   "metadata": {
    "id": "8K_rQi1LknEm"
   },
   "source": [
    "### 2.6 map()\n",
    "Applies a given function to each element of an RDD and returns a new RDD with the same number of elements."
   ]
  },
  {
   "cell_type": "code",
   "execution_count": 23,
   "metadata": {
    "executionInfo": {
     "elapsed": 7,
     "status": "ok",
     "timestamp": 1749540623698,
     "user": {
      "displayName": "TAN SWEE NEO KATHLEEN",
      "userId": "08125048316560176091"
     },
     "user_tz": -480
    },
    "id": "8KUE3ZnynMMn"
   },
   "outputs": [],
   "source": [
    "def tokenize(text):\n",
    "  return text.split()"
   ]
  },
  {
   "cell_type": "code",
   "execution_count": 24,
   "metadata": {
    "colab": {
     "base_uri": "https://localhost:8080/"
    },
    "executionInfo": {
     "elapsed": 394,
     "status": "ok",
     "timestamp": 1749540624095,
     "user": {
      "displayName": "TAN SWEE NEO KATHLEEN",
      "userId": "08125048316560176091"
     },
     "user_tz": -480
    },
    "id": "hx4yFGRhM9H9",
    "outputId": "c155aad8-0361-4c2d-dd4b-4fbc534e9f01"
   },
   "outputs": [
    {
     "data": {
      "text/plain": [
       "[['whether', 'the', 'weather', 'be', 'fine'],\n",
       " ['or', 'whether', 'the', 'weather', 'be', 'not'],\n",
       " ['whether', 'the', 'weather', 'be', 'cold'],\n",
       " ['or', 'whether', 'the', 'weather', 'be', 'hot'],\n",
       " ['well', 'whether', 'the', 'weather'],\n",
       " ['whatever', 'the', 'weather'],\n",
       " ['whether', 'we', 'like', 'it', 'or', 'not']]"
      ]
     },
     "execution_count": 24,
     "metadata": {},
     "output_type": "execute_result"
    }
   ],
   "source": [
    "words_rdd = text_rdd.map(tokenize)\n",
    "words_rdd.collect()"
   ]
  },
  {
   "cell_type": "markdown",
   "metadata": {
    "id": "NBexgDcTk7nf"
   },
   "source": [
    "### 2.7 flatMap()\n",
    "Returns a new RDD by first applying a function to all elements of this RDD, and then flattening the results."
   ]
  },
  {
   "cell_type": "code",
   "execution_count": 25,
   "metadata": {
    "colab": {
     "base_uri": "https://localhost:8080/"
    },
    "executionInfo": {
     "elapsed": 313,
     "status": "ok",
     "timestamp": 1749540624411,
     "user": {
      "displayName": "TAN SWEE NEO KATHLEEN",
      "userId": "08125048316560176091"
     },
     "user_tz": -480
    },
    "id": "Kf8fqtTDnYn9",
    "outputId": "8aed47a3-6d89-4dd9-da66-186f9de575d5"
   },
   "outputs": [
    {
     "data": {
      "text/plain": [
       "['whether',\n",
       " 'the',\n",
       " 'weather',\n",
       " 'be',\n",
       " 'fine',\n",
       " 'or',\n",
       " 'whether',\n",
       " 'the',\n",
       " 'weather',\n",
       " 'be',\n",
       " 'not',\n",
       " 'whether',\n",
       " 'the',\n",
       " 'weather',\n",
       " 'be',\n",
       " 'cold',\n",
       " 'or',\n",
       " 'whether',\n",
       " 'the',\n",
       " 'weather',\n",
       " 'be',\n",
       " 'hot',\n",
       " 'well',\n",
       " 'whether',\n",
       " 'the',\n",
       " 'weather',\n",
       " 'whatever',\n",
       " 'the',\n",
       " 'weather',\n",
       " 'whether',\n",
       " 'we',\n",
       " 'like',\n",
       " 'it',\n",
       " 'or',\n",
       " 'not']"
      ]
     },
     "execution_count": 25,
     "metadata": {},
     "output_type": "execute_result"
    }
   ],
   "source": [
    "words_flattened_rdd = text_rdd.flatMap(tokenize)\n",
    "words_flattened_rdd.collect()"
   ]
  },
  {
   "cell_type": "markdown",
   "metadata": {
    "id": "IkfZ0Pu7oCfX"
   },
   "source": [
    "## 3. Actions\n",
    "\n",
    "### 3.1 collect()\n",
    "Returns all the elements of an RDD to the driver program. You should only use **collect()** if you are sure about the size of your final output. If the size of the final output is huge, then your driver program might crash while receiving the data from the executors. The use of **collect()** is not advised in production."
   ]
  },
  {
   "cell_type": "code",
   "execution_count": 26,
   "metadata": {
    "colab": {
     "base_uri": "https://localhost:8080/"
    },
    "executionInfo": {
     "elapsed": 310,
     "status": "ok",
     "timestamp": 1749540624724,
     "user": {
      "displayName": "TAN SWEE NEO KATHLEEN",
      "userId": "08125048316560176091"
     },
     "user_tz": -480
    },
    "id": "Bhh69T9ooAMY",
    "outputId": "768fa1f5-886b-4d0b-d636-47e8eb711f4c"
   },
   "outputs": [
    {
     "data": {
      "text/plain": [
       "[0, 1, 2, 3, 4, 5, 6, 7, 8, 9]"
      ]
     },
     "execution_count": 26,
     "metadata": {},
     "output_type": "execute_result"
    }
   ],
   "source": [
    "sc.parallelize(range(10)).collect()"
   ]
  },
  {
   "cell_type": "markdown",
   "metadata": {
    "id": "CQVNPWiaocI_"
   },
   "source": [
    "### 3.2 count()\n",
    "Counts the number of elements in the RDD."
   ]
  },
  {
   "cell_type": "code",
   "execution_count": 27,
   "metadata": {
    "colab": {
     "base_uri": "https://localhost:8080/"
    },
    "executionInfo": {
     "elapsed": 339,
     "status": "ok",
     "timestamp": 1749540625068,
     "user": {
      "displayName": "TAN SWEE NEO KATHLEEN",
      "userId": "08125048316560176091"
     },
     "user_tz": -480
    },
    "id": "ioo0lcbpoA73",
    "outputId": "342fcc81-d186-4e06-976d-271a14d43771"
   },
   "outputs": [
    {
     "data": {
      "text/plain": [
       "10"
      ]
     },
     "execution_count": 27,
     "metadata": {},
     "output_type": "execute_result"
    }
   ],
   "source": [
    "sc.parallelize(range(10)).count()"
   ]
  },
  {
   "cell_type": "markdown",
   "metadata": {
    "id": "cvlgW6OvolYP"
   },
   "source": [
    "### 3.3 take()\n",
    "Returns N number of elements from an RDD."
   ]
  },
  {
   "cell_type": "code",
   "execution_count": 28,
   "metadata": {
    "colab": {
     "base_uri": "https://localhost:8080/"
    },
    "executionInfo": {
     "elapsed": 461,
     "status": "ok",
     "timestamp": 1749540625531,
     "user": {
      "displayName": "TAN SWEE NEO KATHLEEN",
      "userId": "08125048316560176091"
     },
     "user_tz": -480
    },
    "id": "hHF0RRZmoA_3",
    "outputId": "b3bff6b4-7a91-45b7-d0e7-17db7b402973"
   },
   "outputs": [
    {
     "data": {
      "text/plain": [
       "[0, 1]"
      ]
     },
     "execution_count": 28,
     "metadata": {},
     "output_type": "execute_result"
    }
   ],
   "source": [
    "sc.parallelize(range(10)).take(2)"
   ]
  },
  {
   "cell_type": "markdown",
   "metadata": {
    "id": "_vBrf9e5osSn"
   },
   "source": [
    "### 3.4 top()\n",
    "Returns the top N elements from the RDD. The following code returns the top 2 elements from an RDD:"
   ]
  },
  {
   "cell_type": "code",
   "execution_count": 29,
   "metadata": {
    "colab": {
     "base_uri": "https://localhost:8080/"
    },
    "executionInfo": {
     "elapsed": 199,
     "status": "ok",
     "timestamp": 1749540625733,
     "user": {
      "displayName": "TAN SWEE NEO KATHLEEN",
      "userId": "08125048316560176091"
     },
     "user_tz": -480
    },
    "id": "a666864a-f3d3-4be8-8ab8-010a24e9857b",
    "outputId": "e6e8f2bb-7a25-445c-e91a-b2e7f487badf"
   },
   "outputs": [
    {
     "data": {
      "text/plain": [
       "[9, 8]"
      ]
     },
     "execution_count": 29,
     "metadata": {},
     "output_type": "execute_result"
    }
   ],
   "source": [
    "sc.parallelize(range(10)).top(2)"
   ]
  },
  {
   "cell_type": "markdown",
   "metadata": {
    "id": "4LIjJVAlo0Iv"
   },
   "source": [
    "### 3.5 takeOrdered()\n",
    "Get N elements based on an ordering."
   ]
  },
  {
   "cell_type": "code",
   "execution_count": 30,
   "metadata": {
    "colab": {
     "base_uri": "https://localhost:8080/"
    },
    "executionInfo": {
     "elapsed": 414,
     "status": "ok",
     "timestamp": 1749540626150,
     "user": {
      "displayName": "TAN SWEE NEO KATHLEEN",
      "userId": "08125048316560176091"
     },
     "user_tz": -480
    },
    "id": "YbMsq1-3o5aX",
    "outputId": "062d6865-c110-4a1c-d6c5-534765ab6d58"
   },
   "outputs": [
    {
     "data": {
      "text/plain": [
       "[9, 8, 7]"
      ]
     },
     "execution_count": 30,
     "metadata": {},
     "output_type": "execute_result"
    }
   ],
   "source": [
    "sc.parallelize(range(10)).takeOrdered(3, key = lambda x: -x)"
   ]
  },
  {
   "cell_type": "markdown",
   "metadata": {
    "id": "5W3XjP_Vo8vA"
   },
   "source": [
    "### 3.6 first()\n",
    "Returns the first element of the RDD."
   ]
  },
  {
   "cell_type": "code",
   "execution_count": 31,
   "metadata": {
    "colab": {
     "base_uri": "https://localhost:8080/"
    },
    "executionInfo": {
     "elapsed": 138,
     "status": "ok",
     "timestamp": 1749540626285,
     "user": {
      "displayName": "TAN SWEE NEO KATHLEEN",
      "userId": "08125048316560176091"
     },
     "user_tz": -480
    },
    "id": "BqAyD6iGo5eA",
    "outputId": "1538283f-3d3b-4cf6-acd6-b1719a228fc1"
   },
   "outputs": [
    {
     "data": {
      "text/plain": [
       "0"
      ]
     },
     "execution_count": 31,
     "metadata": {},
     "output_type": "execute_result"
    }
   ],
   "source": [
    "sc.parallelize(range(10)).first()"
   ]
  },
  {
   "cell_type": "markdown",
   "metadata": {
    "id": "FJxyf-0IpBji"
   },
   "source": [
    "### 3.7 countByValue()\n",
    "Finds the occurrence of each element in the RDD."
   ]
  },
  {
   "cell_type": "code",
   "execution_count": 32,
   "metadata": {
    "colab": {
     "base_uri": "https://localhost:8080/"
    },
    "executionInfo": {
     "elapsed": 480,
     "status": "ok",
     "timestamp": 1749540626768,
     "user": {
      "displayName": "TAN SWEE NEO KATHLEEN",
      "userId": "08125048316560176091"
     },
     "user_tz": -480
    },
    "id": "oEUPIZZ8o5h3",
    "outputId": "ed4e8a83-f399-4fff-9866-8aa298c8aa4a"
   },
   "outputs": [
    {
     "data": {
      "text/plain": [
       "defaultdict(int, {'A': 2, 'B': 1, 'C': 1})"
      ]
     },
     "execution_count": 32,
     "metadata": {},
     "output_type": "execute_result"
    }
   ],
   "source": [
    "sc.parallelize([\"A\",\"A\",\"B\",\"C\"]).countByValue()"
   ]
  },
  {
   "cell_type": "markdown",
   "metadata": {
    "id": "2wwu1IWspGFO"
   },
   "source": [
    "### 3.8 reduce()\n",
    "Combines the RDD elements in parallel and gives aggregated results as output."
   ]
  },
  {
   "cell_type": "code",
   "execution_count": 33,
   "metadata": {
    "colab": {
     "base_uri": "https://localhost:8080/"
    },
    "executionInfo": {
     "elapsed": 500,
     "status": "ok",
     "timestamp": 1749540627270,
     "user": {
      "displayName": "TAN SWEE NEO KATHLEEN",
      "userId": "08125048316560176091"
     },
     "user_tz": -480
    },
    "id": "8xbyW28-o5lZ",
    "outputId": "efefe6dc-732d-4b4c-d8a7-723df3335b16"
   },
   "outputs": [
    {
     "data": {
      "text/plain": [
       "55"
      ]
     },
     "execution_count": 33,
     "metadata": {},
     "output_type": "execute_result"
    }
   ],
   "source": [
    "from operator import add\n",
    "sc.parallelize(range(1,11)).reduce(add)"
   ]
  },
  {
   "cell_type": "markdown",
   "metadata": {
    "id": "y8bF-6iOpKf_"
   },
   "source": [
    "### 3.9 saveAsTextFile()\n",
    "Save an RDD to an external data store."
   ]
  },
  {
   "cell_type": "code",
   "execution_count": 34,
   "metadata": {
    "executionInfo": {
     "elapsed": 1018,
     "status": "ok",
     "timestamp": 1749540628291,
     "user": {
      "displayName": "TAN SWEE NEO KATHLEEN",
      "userId": "08125048316560176091"
     },
     "user_tz": -480
    },
    "id": "3xVmHw1Mo5ok"
   },
   "outputs": [],
   "source": [
    "# Save to HDFS\n",
    "sc.parallelize(range(200)).saveAsTextFile('result.txt')"
   ]
  },
  {
   "cell_type": "markdown",
   "metadata": {
    "id": "lPingTZXjgGI"
   },
   "source": [
    "## 4. Pair RDDs\n",
    "\n",
    "### 4.1 groupByKey()\n",
    "- Groups elements having the same key.\n",
    "- A wide transformation that shuffles data between executors based on the key.\n"
   ]
  },
  {
   "cell_type": "code",
   "execution_count": 35,
   "metadata": {
    "colab": {
     "base_uri": "https://localhost:8080/"
    },
    "executionInfo": {
     "elapsed": 1231,
     "status": "ok",
     "timestamp": 1749540629525,
     "user": {
      "displayName": "TAN SWEE NEO KATHLEEN",
      "userId": "08125048316560176091"
     },
     "user_tz": -480
    },
    "id": "bFh_ZvexpWZv",
    "outputId": "ed30c918-2a18-4b80-f76a-749a1fc96d3a"
   },
   "outputs": [
    {
     "name": "stdout",
     "output_type": "stream",
     "text": [
      "key: 1, value: [5, 10]\n",
      "key: 2, value: [4, 6]\n",
      "key: 3, value: [1]\n"
     ]
    }
   ],
   "source": [
    "pair_rdd = sc.parallelize([(1, 5),(1, 10),(2, 4),(3, 1),(2,6)])\n",
    "result = pair_rdd.groupByKey().collect()\n",
    "for pair in result:\n",
    "    print(f\"key: {pair[0]}, value: {list(pair[1])}\")"
   ]
  },
  {
   "cell_type": "markdown",
   "metadata": {
    "id": "WkgpvMJ6pqTw"
   },
   "source": [
    "### 4.2 reduceByKey()\n",
    "Allows aggregation of data by minimizing the data shuffle and performs operations on each key in parallel. A reduceByKey() transformation first performs the local aggregation within the executor and then shuffles the aggregated data between each node."
   ]
  },
  {
   "cell_type": "code",
   "execution_count": 36,
   "metadata": {
    "colab": {
     "base_uri": "https://localhost:8080/"
    },
    "executionInfo": {
     "elapsed": 920,
     "status": "ok",
     "timestamp": 1749540630448,
     "user": {
      "displayName": "TAN SWEE NEO KATHLEEN",
      "userId": "08125048316560176091"
     },
     "user_tz": -480
    },
    "id": "la7XOciPpyi-",
    "outputId": "ba6601fa-1ea4-4f26-cb91-320d46d127a6"
   },
   "outputs": [
    {
     "data": {
      "text/plain": [
       "[(1, 15), (2, 10), (3, 1)]"
      ]
     },
     "execution_count": 36,
     "metadata": {},
     "output_type": "execute_result"
    }
   ],
   "source": [
    "pair_rdd = sc.parallelize([(1, 5),(1, 10),(2, 4),(3, 1),(2, 6)])\n",
    "pair_rdd.reduceByKey(lambda x,y : x+y).collect()"
   ]
  },
  {
   "cell_type": "code",
   "execution_count": 37,
   "metadata": {
    "colab": {
     "base_uri": "https://localhost:8080/"
    },
    "executionInfo": {
     "elapsed": 124,
     "status": "ok",
     "timestamp": 1749540630570,
     "user": {
      "displayName": "TAN SWEE NEO KATHLEEN",
      "userId": "08125048316560176091"
     },
     "user_tz": -480
    },
    "id": "neORsIOhnYtm",
    "outputId": "9f579f1f-c1d5-4ac8-c817-b5a98fdae2f2"
   },
   "outputs": [
    {
     "data": {
      "text/plain": [
       "[('pen', 2),\n",
       " ('ruler', 3),\n",
       " ('eraser', 1),\n",
       " ('ruler', 2),\n",
       " ('pen', 5),\n",
       " ('notepad', 4),\n",
       " ('ruler', 3)]"
      ]
     },
     "execution_count": 37,
     "metadata": {},
     "output_type": "execute_result"
    }
   ],
   "source": [
    "orders = [('pen', 2), ('ruler', 3), ('eraser', 1),\n",
    "          ('ruler', 2), ('pen', 5), ('notepad', 4), ('ruler', 3)]\n",
    "orders_rdd = sc.parallelize(orders)\n",
    "orders_rdd.collect()"
   ]
  },
  {
   "cell_type": "markdown",
   "metadata": {
    "id": "-k7stwgwmQSf"
   },
   "source": [
    "### 4.3 sortBy()\n",
    "Accepts a function that can be used to sort the RDD elements.\n",
    "Example 4.3(a): Sort an RDD in **ascending order** using the first element of the tuple:"
   ]
  },
  {
   "cell_type": "code",
   "execution_count": 38,
   "metadata": {
    "colab": {
     "base_uri": "https://localhost:8080/"
    },
    "executionInfo": {
     "elapsed": 1305,
     "status": "ok",
     "timestamp": 1749540631878,
     "user": {
      "displayName": "TAN SWEE NEO KATHLEEN",
      "userId": "08125048316560176091"
     },
     "user_tz": -480
    },
    "id": "rbNma2WMnYwV",
    "outputId": "6e7748de-b974-4ac7-c02a-d84ca1b7fbe0"
   },
   "outputs": [
    {
     "data": {
      "text/plain": [
       "[('eraser', 1),\n",
       " ('notepad', 4),\n",
       " ('pen', 2),\n",
       " ('pen', 5),\n",
       " ('ruler', 3),\n",
       " ('ruler', 2),\n",
       " ('ruler', 3)]"
      ]
     },
     "execution_count": 38,
     "metadata": {},
     "output_type": "execute_result"
    }
   ],
   "source": [
    "orders = [('pen', 2), ('ruler', 3), ('eraser', 1),\n",
    "          ('ruler', 2), ('pen', 5), ('notepad', 4), ('ruler', 3)]\n",
    "orders_rdd.sortBy(lambda x: x[0]).collect()"
   ]
  },
  {
   "cell_type": "markdown",
   "metadata": {
    "id": "1ghsyFVtmnM4"
   },
   "source": [
    "Example 4.3(b): Sort an RDD in **descending order** using the second element of the tuple:"
   ]
  },
  {
   "cell_type": "code",
   "execution_count": 39,
   "metadata": {
    "colab": {
     "base_uri": "https://localhost:8080/"
    },
    "executionInfo": {
     "elapsed": 1336,
     "status": "ok",
     "timestamp": 1749540633217,
     "user": {
      "displayName": "TAN SWEE NEO KATHLEEN",
      "userId": "08125048316560176091"
     },
     "user_tz": -480
    },
    "id": "SXPeZ-rtnYzn",
    "outputId": "5db737e1-db52-4b76-e7a7-3ff4d4683d49"
   },
   "outputs": [
    {
     "data": {
      "text/plain": [
       "[('pen', 5),\n",
       " ('notepad', 4),\n",
       " ('ruler', 3),\n",
       " ('ruler', 3),\n",
       " ('pen', 2),\n",
       " ('ruler', 2),\n",
       " ('eraser', 1)]"
      ]
     },
     "execution_count": 39,
     "metadata": {},
     "output_type": "execute_result"
    }
   ],
   "source": [
    "orders = [('pen', 2), ('ruler', 3), ('eraser', 1),\n",
    "          ('ruler', 2), ('pen', 5), ('notepad', 4), ('ruler', 3)]\n",
    "orders_rdd.sortBy(lambda x: -x[1]).collect()"
   ]
  },
  {
   "cell_type": "markdown",
   "metadata": {
    "id": "PtPEb69xqCPP"
   },
   "source": [
    "### 4.4 join()\n",
    "Joins two pair RDDs based on their keys.\n",
    "Example: join data based on the country and returns only the matching records:"
   ]
  },
  {
   "cell_type": "code",
   "execution_count": 40,
   "metadata": {
    "colab": {
     "base_uri": "https://localhost:8080/"
    },
    "executionInfo": {
     "elapsed": 1539,
     "status": "ok",
     "timestamp": 1749540634758,
     "user": {
      "displayName": "TAN SWEE NEO KATHLEEN",
      "userId": "08125048316560176091"
     },
     "user_tz": -480
    },
    "id": "XWDNhFjNqFQW",
    "outputId": "02bab17f-608f-4c67-ccbd-533bb86e5f71"
   },
   "outputs": [
    {
     "data": {
      "text/plain": [
       "[('IND', (30, 300)), ('US', (20, 200))]"
      ]
     },
     "execution_count": 40,
     "metadata": {},
     "output_type": "execute_result"
    }
   ],
   "source": [
    "salesRDD = sc.parallelize([(\"US\",20),(\"IND\",30),(\"UK\",10)])\n",
    "revenueRDD = sc.parallelize([(\"US\",200),(\"IND\",300)])\n",
    "salesRDD.join(revenueRDD).collect()"
   ]
  },
  {
   "cell_type": "code",
   "execution_count": 41,
   "metadata": {
    "executionInfo": {
     "elapsed": 989,
     "status": "ok",
     "timestamp": 1749540635750,
     "user": {
      "displayName": "TAN SWEE NEO KATHLEEN",
      "userId": "08125048316560176091"
     },
     "user_tz": -480
    },
    "id": "jubzV92taH5x"
   },
   "outputs": [],
   "source": [
    "spark.stop()"
   ]
  },
  {
   "cell_type": "code",
   "execution_count": null,
   "metadata": {},
   "outputs": [],
   "source": []
  },
  {
   "cell_type": "code",
   "execution_count": null,
   "metadata": {},
   "outputs": [],
   "source": []
  },
  {
   "cell_type": "code",
   "execution_count": null,
   "metadata": {},
   "outputs": [],
   "source": []
  },
  {
   "cell_type": "code",
   "execution_count": null,
   "metadata": {},
   "outputs": [],
   "source": []
  },
  {
   "cell_type": "code",
   "execution_count": null,
   "metadata": {},
   "outputs": [],
   "source": []
  }
 ],
 "metadata": {
  "colab": {
   "authorship_tag": "ABX9TyNmolnqQ7zpwMGcxmmDZdeX",
   "provenance": [
    {
     "file_id": "1guVzSwh3VUe4-LDwY1fXw02dV0UcBYD0",
     "timestamp": 1730680804330
    }
   ]
  },
  "kernelspec": {
   "display_name": "de-venv",
   "language": "python",
   "name": "de-venv"
  },
  "language_info": {
   "codemirror_mode": {
    "name": "ipython",
    "version": 3
   },
   "file_extension": ".py",
   "mimetype": "text/x-python",
   "name": "python",
   "nbconvert_exporter": "python",
   "pygments_lexer": "ipython3",
   "version": "3.10.12"
  }
 },
 "nbformat": 4,
 "nbformat_minor": 4
}
