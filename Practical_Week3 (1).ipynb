{
 "cells": [
  {
   "cell_type": "code",
   "execution_count": null,
   "id": "2bd6f9a3-4254-4d4f-a912-f9cd0d29cb19",
   "metadata": {},
   "outputs": [],
   "source": [
    "# 202405 BMCS2013 Quesrion 4"
   ]
  },
  {
   "cell_type": "code",
   "execution_count": 2,
   "id": "38ccdda5-7510-40d3-8465-d7e3f4a31a4e",
   "metadata": {},
   "outputs": [],
   "source": [
    "from pyspark.sql import SparkSession\n",
    "spark = SparkSession.builder.getOrCreate()\n",
    "sc = spark.sparkContext"
   ]
  },
  {
   "cell_type": "code",
   "execution_count": 6,
   "id": "ce5bfc1b-4505-477b-aa1d-d11bbb420510",
   "metadata": {},
   "outputs": [],
   "source": [
    "import pprint"
   ]
  },
  {
   "cell_type": "code",
   "execution_count": 7,
   "id": "e51028ce-618e-4b27-9073-d1565017a88c",
   "metadata": {},
   "outputs": [],
   "source": [
    "lines_rdd = sc.textFile(\"data/data.txt\")"
   ]
  },
  {
   "cell_type": "code",
   "execution_count": 8,
   "id": "eba69022-d805-4829-ab9f-9fedc7660596",
   "metadata": {},
   "outputs": [
    {
     "name": "stdout",
     "output_type": "stream",
     "text": [
      "['peter piper picked a peck of pickled peppers',\n",
      " 'a peck of pickled peppers peter piper picked',\n",
      " 'if peter piper picked a peck of pickled peppers',\n",
      " 'where is the peck of pickled peppers peter piper picked']\n"
     ]
    }
   ],
   "source": [
    "pprint.pprint(lines_rdd.collect())"
   ]
  },
  {
   "cell_type": "code",
   "execution_count": 41,
   "id": "798c3c55-a092-4544-a839-e94a1dbc31af",
   "metadata": {},
   "outputs": [
    {
     "data": {
      "text/plain": [
       "['peter',\n",
       " 'piper',\n",
       " 'picked',\n",
       " 'a',\n",
       " 'peck',\n",
       " 'of',\n",
       " 'pickled',\n",
       " 'peppers',\n",
       " 'a',\n",
       " 'peck',\n",
       " 'of',\n",
       " 'pickled',\n",
       " 'peppers',\n",
       " 'peter',\n",
       " 'piper',\n",
       " 'picked',\n",
       " 'if',\n",
       " 'peter',\n",
       " 'piper',\n",
       " 'picked',\n",
       " 'a',\n",
       " 'peck',\n",
       " 'of',\n",
       " 'pickled',\n",
       " 'peppers',\n",
       " 'where',\n",
       " 'is',\n",
       " 'the',\n",
       " 'peck',\n",
       " 'of',\n",
       " 'pickled',\n",
       " 'peppers',\n",
       " 'peter',\n",
       " 'piper',\n",
       " 'picked']"
      ]
     },
     "execution_count": 41,
     "metadata": {},
     "output_type": "execute_result"
    }
   ],
   "source": [
    "words_rdd = lines_rdd.flatMap(lambda x : x.split())\n",
    "words_rdd.collect()"
   ]
  },
  {
   "cell_type": "code",
   "execution_count": 42,
   "id": "8c2e62e9-985b-4e78-b5af-3f5f283dfc4d",
   "metadata": {},
   "outputs": [
    {
     "name": "stdout",
     "output_type": "stream",
     "text": [
      "['peter', 'piper', 'picked', 'a', 'peck', 'of', 'pickled', 'peppers', 'a', 'peck', 'of', 'pickled', 'peppers', 'peter', 'piper', 'picked', 'if', 'peter', 'piper', 'picked', 'a', 'peck', 'of', 'pickled', 'peppers', 'where', 'is', 'the', 'peck', 'of', 'pickled', 'peppers', 'peter', 'piper', 'picked']\n"
     ]
    }
   ],
   "source": [
    "print(words_rdd.collect())"
   ]
  },
  {
   "cell_type": "code",
   "execution_count": 43,
   "id": "259e8c0d-8d16-459e-a2cd-0fb81bc8950f",
   "metadata": {
    "scrolled": true
   },
   "outputs": [
    {
     "name": "stdout",
     "output_type": "stream",
     "text": [
      "[('piper', 4), ('picked', 4), ('of', 4), ('pickled', 4), ('peppers', 4), ('where', 1), ('is', 1), ('peter', 4), ('a', 3), ('peck', 4), ('if', 1), ('the', 1)]\n"
     ]
    }
   ],
   "source": [
    "word_count_rdd = words_rdd.map(lambda x : (x,1)).reduceByKey(lambda x,y : x+y)\n",
    "print(word_count_rdd.collect())"
   ]
  },
  {
   "cell_type": "code",
   "execution_count": 44,
   "id": "470ba7ab-05df-42c4-a1a3-48bbd71a74f8",
   "metadata": {},
   "outputs": [
    {
     "data": {
      "text/plain": [
       "[('piper', 4),\n",
       " ('picked', 4),\n",
       " ('of', 4),\n",
       " ('pickled', 4),\n",
       " ('peppers', 4),\n",
       " ('peter', 4),\n",
       " ('peck', 4),\n",
       " ('a', 3),\n",
       " ('where', 1),\n",
       " ('is', 1),\n",
       " ('if', 1),\n",
       " ('the', 1)]"
      ]
     },
     "execution_count": 44,
     "metadata": {},
     "output_type": "execute_result"
    }
   ],
   "source": [
    "word_count_rdd.sortBy(lambda x : -x[1]).collect()"
   ]
  },
  {
   "cell_type": "code",
   "execution_count": 46,
   "id": "38dba66e-4fb8-4937-9a8c-f6ff7a30cbc1",
   "metadata": {},
   "outputs": [],
   "source": [
    "filter_rdd = words_rdd.distinct().filter(lambda x : \"p\" in x)"
   ]
  },
  {
   "cell_type": "code",
   "execution_count": 47,
   "id": "1c1714e4-f43a-4e9e-92aa-744b856e36a8",
   "metadata": {},
   "outputs": [
    {
     "name": "stdout",
     "output_type": "stream",
     "text": [
      "['piper', 'picked', 'pickled', 'peppers', 'peter', 'peck']\n"
     ]
    }
   ],
   "source": [
    "print(filter_rdd.collect())"
   ]
  },
  {
   "cell_type": "code",
   "execution_count": null,
   "id": "7da49507-d63b-4848-a5d2-918ea80f5bd7",
   "metadata": {},
   "outputs": [],
   "source": []
  }
 ],
 "metadata": {
  "kernelspec": {
   "display_name": "de-venv",
   "language": "python",
   "name": "de-venv"
  },
  "language_info": {
   "codemirror_mode": {
    "name": "ipython",
    "version": 3
   },
   "file_extension": ".py",
   "mimetype": "text/x-python",
   "name": "python",
   "nbconvert_exporter": "python",
   "pygments_lexer": "ipython3",
   "version": "3.10.12"
  }
 },
 "nbformat": 4,
 "nbformat_minor": 5
}
